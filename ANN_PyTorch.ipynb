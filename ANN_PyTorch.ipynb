{
  "nbformat": 4,
  "nbformat_minor": 0,
  "metadata": {
    "colab": {
      "name": "Untitled15.ipynb",
      "provenance": []
    },
    "kernelspec": {
      "name": "python3",
      "display_name": "Python 3"
    }
  },
  "cells": [
    {
      "cell_type": "code",
      "metadata": {
        "id": "cGs_6uKY31_0",
        "colab_type": "code",
        "colab": {}
      },
      "source": [
        "import pandas as pd\n",
        "import torch\n",
        "from sklearn.model_selection import train_test_split\n",
        "from sklearn.metrics import accuracy_score"
      ],
      "execution_count": 0,
      "outputs": []
    },
    {
      "cell_type": "code",
      "metadata": {
        "id": "z-fIZsl34MjK",
        "colab_type": "code",
        "colab": {}
      },
      "source": [
        "df = pd.read_csv('https://raw.githubusercontent.com/sukesh167/neural_nets/master/datsets/Churn_Modelling.csv')\n",
        "df = df.drop(['RowNumber','CustomerId','Surname'],axis=1)\n",
        "target=df.pop('Exited')\n",
        "df['Gender'] = pd.Categorical(df['Gender'])\n",
        "df['Gender'] = df.Gender.cat.codes\n",
        "df['Geography'] = pd.Categorical(df['Geography'])\n",
        "df['Geography'] = df.Geography.cat.codes\n",
        "x_train,x_test,y_train,y_test=train_test_split(df,target,train_size=0.8)"
      ],
      "execution_count": 0,
      "outputs": []
    },
    {
      "cell_type": "code",
      "metadata": {
        "id": "QHLQ7Uaj9eu9",
        "colab_type": "code",
        "colab": {}
      },
      "source": [
        "x_train= torch.tensor(x_train.values)\n",
        "y_train= torch.tensor(y_train.values)\n",
        "y_train=y_train.view(y_train.size(0), -1)\n",
        "x_test= torch.tensor(x_test.values)\n",
        "y_test= torch.tensor(y_test.values)\n",
        "y_test=y_test.view(y_test.size(0), -1)"
      ],
      "execution_count": 0,
      "outputs": []
    },
    {
      "cell_type": "code",
      "metadata": {
        "id": "bxC_BEab62ec",
        "colab_type": "code",
        "colab": {}
      },
      "source": [
        "class Net(torch.nn.Module):\n",
        "  def __init__(self):\n",
        "    super(Net, self).__init__()\n",
        "    self.ann=torch.nn.Sequential(\n",
        "      torch.nn.Linear(10,10,bias=True),\n",
        "      torch.nn.ReLU(inplace=True),\n",
        "      torch.nn.Linear(10,10,bias=True),\n",
        "      torch.nn.ReLU(inplace=True),\n",
        "      torch.nn.Linear(10,1,bias=True),\n",
        "      torch.nn.Sigmoid()\n",
        "    )\n",
        "  def forward(self,x):\n",
        "    x=self.ann(x)\n",
        "    return(x)   "
      ],
      "execution_count": 0,
      "outputs": []
    },
    {
      "cell_type": "code",
      "metadata": {
        "id": "5YI7qkOT65yT",
        "colab_type": "code",
        "colab": {}
      },
      "source": [
        "ann=Net().cuda()\n",
        "optimizer=torch.optim.SGD(ann.parameters(),lr=0.05)\n",
        "loss=torch.nn.BCELoss().cuda()"
      ],
      "execution_count": 0,
      "outputs": []
    },
    {
      "cell_type": "code",
      "metadata": {
        "id": "Xf35160HPhM7",
        "colab_type": "code",
        "colab": {}
      },
      "source": [
        "def train(epoch,x_train,y_train,x_test,y_test):\n",
        "  ann.train()\n",
        "  tr_loss=0\n",
        "  x_train=torch.autograd.Variable(x_train).cuda()\n",
        "  y_train=torch.autograd.Variable(y_train).cuda()\n",
        "  x_val=torch.autograd.Variable(x_test).cuda()\n",
        "  y_val=torch.autograd.Variable(y_test).cuda()\n",
        "  optimizer.zero_grad()\n",
        "  out_train=ann(x_train.float())\n",
        "  out_val=ann(x_val.float())\n",
        "  loss_train=loss(out_train,y_train.float())\n",
        "  loss_val=loss(out_val,y_val.float())\n",
        "  loss_train.backward()\n",
        "  optimizer.step()\n",
        "  print('Epoch: ',epoch,'/t','acc: ',accuracy_score(y_train.detach().cpu(), np.argmax(list(out_train.detach().cpu().numpy()),axis=1)),'/t','loss: ',loss_train,'/t','val_acc: ',accuracy_score(y_val.detach().cpu(),np.argmax(list(out_val.detach().cpu().numpy()),axis=1)),'/t','val_loss: ',loss_val)"
      ],
      "execution_count": 0,
      "outputs": []
    },
    {
      "cell_type": "code",
      "metadata": {
        "id": "Yq8pEjGHzcHw",
        "colab_type": "code",
        "colab": {}
      },
      "source": [
        "import numpy as np\n",
        "for i in range(50):\n",
        "  train(i,x_train,y_train,x_test,y_test)"
      ],
      "execution_count": 0,
      "outputs": []
    }
  ]
}