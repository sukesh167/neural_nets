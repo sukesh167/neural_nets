{
  "nbformat": 4,
  "nbformat_minor": 0,
  "metadata": {
    "colab": {
      "name": "Sukesh Shenoy  Task-1",
      "provenance": [],
      "collapsed_sections": []
    },
    "kernelspec": {
      "name": "python3",
      "display_name": "Python 3"
    }
  },
  "cells": [
    {
      "cell_type": "code",
      "metadata": {
        "id": "sZuwypPo-XKs",
        "colab_type": "code",
        "colab": {}
      },
      "source": [
        "import tensorflow as tf\n",
        "import pandas as pd"
      ],
      "execution_count": 0,
      "outputs": []
    },
    {
      "cell_type": "markdown",
      "metadata": {
        "id": "pZyqRXdKh6PM",
        "colab_type": "text"
      },
      "source": [
        "Loading the Dataset and seperating Target and Features"
      ]
    },
    {
      "cell_type": "code",
      "metadata": {
        "id": "NtOzm1xlBknG",
        "colab_type": "code",
        "colab": {}
      },
      "source": [
        "df = pd.read_csv('https://raw.githubusercontent.com/sukesh167/neural_nets/master/datsets/Churn_Modelling.csv')\n",
        "df = df.drop(['RowNumber','CustomerId','Surname'],axis=1)\n",
        "target=df.pop('Exited')"
      ],
      "execution_count": 0,
      "outputs": []
    },
    {
      "cell_type": "markdown",
      "metadata": {
        "id": "-p8n-nUQifCK",
        "colab_type": "text"
      },
      "source": [
        "Converting strings to integers "
      ]
    },
    {
      "cell_type": "code",
      "metadata": {
        "id": "thXcneSnhv4x",
        "colab_type": "code",
        "colab": {}
      },
      "source": [
        "df['Gender'] = pd.Categorical(df['Gender'])\n",
        "df['Gender'] = df.Gender.cat.codes\n",
        "df['Geography'] = pd.Categorical(df['Geography'])\n",
        "df['Geography'] = df.Geography.cat.codes"
      ],
      "execution_count": 0,
      "outputs": []
    },
    {
      "cell_type": "markdown",
      "metadata": {
        "id": "jMeT1JUri7Il",
        "colab_type": "text"
      },
      "source": [
        "Converting the data in Pandas Dataframe to Tensorflow Dataset and splitting into training and testing sets"
      ]
    },
    {
      "cell_type": "code",
      "metadata": {
        "id": "m4KYs59hh0w2",
        "colab_type": "code",
        "colab": {}
      },
      "source": [
        "dataset = tf.data.Dataset.from_tensor_slices((df.values, target.values))\n",
        "all_dataset = dataset.shuffle(len(df)).batch(1)\n",
        "test_dataset = all_dataset.take(2000) \n",
        "train_dataset = all_dataset.skip(2000)"
      ],
      "execution_count": 0,
      "outputs": []
    },
    {
      "cell_type": "markdown",
      "metadata": {
        "id": "K7cLM-XqjRiB",
        "colab_type": "text"
      },
      "source": [
        "Artificial Neural Netwrok model with 10 input layers, 10 hidden neurons, 1 output layer"
      ]
    },
    {
      "cell_type": "code",
      "metadata": {
        "id": "OOr4K6uVByNY",
        "colab_type": "code",
        "colab": {}
      },
      "source": [
        "ANN=tf.keras.models.Sequential()\n",
        "ANN.add(tf.keras.layers.Dense(10,activation='linear'))\n",
        "ANN.add(tf.keras.layers.Dense(10,activation='sigmoid'))\n",
        "ANN.add(tf.keras.layers.Dense(1,activation='sigmoid'))\n",
        "ANN.compile(optimizer=tf.keras.optimizers.SGD(nesterov=True),\n",
        "              loss=tf.keras.losses.MeanSquaredError(),\n",
        "              metrics=['accuracy'])"
      ],
      "execution_count": 0,
      "outputs": []
    },
    {
      "cell_type": "markdown",
      "metadata": {
        "id": "-U0YOLu2jb6p",
        "colab_type": "text"
      },
      "source": [
        "\n",
        "Training the model and testing it for accuracy"
      ]
    },
    {
      "cell_type": "code",
      "metadata": {
        "id": "DKDVh9_3BRKq",
        "colab_type": "code",
        "colab": {}
      },
      "source": [
        "ANN.fit(train_dataset,epochs=5)\n",
        "loss,accuracy=ANN.evaluate(test_dataset) \n",
        "print(\"Model Accuracy=\",accuracy)"
      ],
      "execution_count": 0,
      "outputs": []
    },
    {
      "cell_type": "markdown",
      "metadata": {
        "id": "GjWB4-410YHK",
        "colab_type": "text"
      },
      "source": [
        "\n",
        "\n",
        "> "
      ]
    },
    {
      "cell_type": "code",
      "metadata": {
        "id": "bVBrZMHFygBk",
        "colab_type": "code",
        "colab": {}
      },
      "source": [
        ""
      ],
      "execution_count": 0,
      "outputs": []
    }
  ]
}